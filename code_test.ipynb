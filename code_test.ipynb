{
 "cells": [
  {
   "cell_type": "code",
   "execution_count": 2,
   "id": "d0e69a7a-420e-4c14-b7ca-437e2d31dbcd",
   "metadata": {},
   "outputs": [
    {
     "data": {
      "text/html": [
       "<div>\n",
       "<style scoped>\n",
       "    .dataframe tbody tr th:only-of-type {\n",
       "        vertical-align: middle;\n",
       "    }\n",
       "\n",
       "    .dataframe tbody tr th {\n",
       "        vertical-align: top;\n",
       "    }\n",
       "\n",
       "    .dataframe thead th {\n",
       "        text-align: right;\n",
       "    }\n",
       "</style>\n",
       "<table border=\"1\" class=\"dataframe\">\n",
       "  <thead>\n",
       "    <tr style=\"text-align: right;\">\n",
       "      <th></th>\n",
       "      <th>STYLE</th>\n",
       "      <th>COLOR</th>\n",
       "      <th>SIZE</th>\n",
       "      <th>DESCRIPT</th>\n",
       "      <th>COLOR/SIZE/DESCRIPT</th>\n",
       "      <th>UPC</th>\n",
       "      <th>MSRP</th>\n",
       "      <th>SELL_PRIC5</th>\n",
       "    </tr>\n",
       "  </thead>\n",
       "  <tbody>\n",
       "    <tr>\n",
       "      <th>1</th>\n",
       "      <td>KBT7018</td>\n",
       "      <td>NONE</td>\n",
       "      <td>ONESIZE</td>\n",
       "      <td>ACRYLIC LOGO MAGNET</td>\n",
       "      <td>NONE/ONESIZE/ACRYLIC LOGO MAGNET</td>\n",
       "      <td>843191136949</td>\n",
       "      <td>6.95</td>\n",
       "      <td>2.5</td>\n",
       "    </tr>\n",
       "  </tbody>\n",
       "</table>\n",
       "</div>"
      ],
      "text/plain": [
       "     STYLE COLOR     SIZE             DESCRIPT  \\\n",
       "1  KBT7018  NONE  ONESIZE  ACRYLIC LOGO MAGNET   \n",
       "\n",
       "                COLOR/SIZE/DESCRIPT           UPC  MSRP  SELL_PRIC5  \n",
       "1  NONE/ONESIZE/ACRYLIC LOGO MAGNET  843191136949  6.95         2.5  "
      ]
     },
     "execution_count": 2,
     "metadata": {},
     "output_type": "execute_result"
    }
   ],
   "source": [
    "import pandas as pd\n",
    "\n",
    "\n",
    "df_cust = pd.read_csv('Bourbon Trail Customer List.csv')\n",
    "\n",
    "# read the items database\n",
    "df_items = pd.read_excel('KBTPriceList 4.27.22.xlsx', sheet_name='Datasheet')\n",
    "# apply strip() method to all strings in DataFrame\n",
    "df_items = df_items.applymap(lambda x: x.strip() if isinstance(x, str) else x)\n",
    "\n",
    "style = 'KBT7018'\n",
    "color = 'NONE'\n",
    "size = 'ONESIZE'\n",
    "    \n",
    "# get upc from the values above\n",
    "# Filter the DataFrame based on the selected values\n",
    "\n",
    "filtered_df = df_items[\n",
    "    (df_items['STYLE'] == style) &\n",
    "    (df_items['COLOR'] == color) &\n",
    "    (df_items['SIZE'] == size)\n",
    "]\n",
    "filtered_df"
   ]
  },
  {
   "cell_type": "code",
   "execution_count": null,
   "id": "490082fc-1fbf-4b18-bb4e-839303aee169",
   "metadata": {},
   "outputs": [],
   "source": []
  }
 ],
 "metadata": {
  "kernelspec": {
   "display_name": "Python 3 (ipykernel)",
   "language": "python",
   "name": "python3"
  },
  "language_info": {
   "codemirror_mode": {
    "name": "ipython",
    "version": 3
   },
   "file_extension": ".py",
   "mimetype": "text/x-python",
   "name": "python",
   "nbconvert_exporter": "python",
   "pygments_lexer": "ipython3",
   "version": "3.9.7"
  }
 },
 "nbformat": 4,
 "nbformat_minor": 5
}
