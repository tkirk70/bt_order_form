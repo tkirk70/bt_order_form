{
 "cells": [
  {
   "cell_type": "code",
   "execution_count": 11,
   "id": "d0e69a7a-420e-4c14-b7ca-437e2d31dbcd",
   "metadata": {},
   "outputs": [
    {
     "name": "stderr",
     "output_type": "stream",
     "text": [
      "C:\\Users\\TechnologyDataServic\\AppData\\Local\\Temp\\ipykernel_5592\\3002198810.py:25: SettingWithCopyWarning: \n",
      "A value is trying to be set on a copy of a slice from a DataFrame.\n",
      "Try using .loc[row_indexer,col_indexer] = value instead\n",
      "\n",
      "See the caveats in the documentation: https://pandas.pydata.org/pandas-docs/stable/user_guide/indexing.html#returning-a-view-versus-a-copy\n",
      "  filtered_df['QTY'] = qty\n"
     ]
    },
    {
     "ename": "TypeError",
     "evalue": "unsupported format string passed to Series.__format__",
     "output_type": "error",
     "traceback": [
      "\u001b[1;31m---------------------------------------------------------------------------\u001b[0m",
      "\u001b[1;31mTypeError\u001b[0m                                 Traceback (most recent call last)",
      "Cell \u001b[1;32mIn[11], line 27\u001b[0m\n\u001b[0;32m     25\u001b[0m filtered_df[\u001b[38;5;124m'\u001b[39m\u001b[38;5;124mQTY\u001b[39m\u001b[38;5;124m'\u001b[39m] \u001b[38;5;241m=\u001b[39m qty\n\u001b[0;32m     26\u001b[0m total1 \u001b[38;5;241m=\u001b[39m qty \u001b[38;5;241m*\u001b[39m filtered_df[\u001b[38;5;124m'\u001b[39m\u001b[38;5;124mMSRP\u001b[39m\u001b[38;5;124m'\u001b[39m]\n\u001b[1;32m---> 27\u001b[0m total1 \u001b[38;5;241m=\u001b[39m \u001b[38;5;124mf\u001b[39m\u001b[38;5;124m'\u001b[39m\u001b[38;5;132;01m{\u001b[39;00mtotal1\u001b[38;5;132;01m:\u001b[39;00m\u001b[38;5;124m,.2f\u001b[39m\u001b[38;5;132;01m}\u001b[39;00m\u001b[38;5;124m'\u001b[39m\n\u001b[0;32m     29\u001b[0m filtered_df[\u001b[38;5;124m\"\u001b[39m\u001b[38;5;124mTotal\u001b[39m\u001b[38;5;124m\"\u001b[39m] \u001b[38;5;241m=\u001b[39m total1\n\u001b[0;32m     31\u001b[0m filtered_df\n",
      "\u001b[1;31mTypeError\u001b[0m: unsupported format string passed to Series.__format__"
     ]
    }
   ],
   "source": [
    "import pandas as pd\n",
    "\n",
    "\n",
    "df_cust = pd.read_csv('Bourbon Trail Customer List.csv')\n",
    "\n",
    "# read the items database\n",
    "df_items = pd.read_excel('KBTPriceList 4.27.22.xlsx', sheet_name='Datasheet')\n",
    "# apply strip() method to all strings in DataFrame\n",
    "df_items = df_items.applymap(lambda x: x.strip() if isinstance(x, str) else x)\n",
    "\n",
    "style = 'KBT7018'\n",
    "color = 'NONE'\n",
    "size = 'ONESIZE'\n",
    "qty = 2\n",
    "    \n",
    "# get upc from the values above\n",
    "# Filter the DataFrame based on the selected values\n",
    "\n",
    "filtered_df = df_items[\n",
    "    (df_items['STYLE'] == style) &\n",
    "    (df_items['COLOR'] == color) &\n",
    "    (df_items['SIZE'] == size)\n",
    "]\n",
    "\n",
    "filtered_df['QTY'] = qty\n",
    "total1 = qty * filtered_df['MSRP']\n",
    "total1 = f'{total1:,.2f}'\n",
    "\n",
    "filtered_df[\"Total\"] = total1\n",
    "\n",
    "filtered_df"
   ]
  },
  {
   "cell_type": "code",
   "execution_count": 3,
   "id": "490082fc-1fbf-4b18-bb4e-839303aee169",
   "metadata": {},
   "outputs": [
    {
     "name": "stdout",
     "output_type": "stream",
     "text": [
      "<class 'pandas.core.frame.DataFrame'>\n",
      "Index: 1 entries, 1 to 1\n",
      "Data columns (total 8 columns):\n",
      " #   Column               Non-Null Count  Dtype  \n",
      "---  ------               --------------  -----  \n",
      " 0   STYLE                1 non-null      object \n",
      " 1   COLOR                1 non-null      object \n",
      " 2   SIZE                 1 non-null      object \n",
      " 3   DESCRIPT             1 non-null      object \n",
      " 4   COLOR/SIZE/DESCRIPT  1 non-null      object \n",
      " 5   UPC                  1 non-null      int64  \n",
      " 6   MSRP                 1 non-null      float64\n",
      " 7   SELL_PRIC5           1 non-null      float64\n",
      "dtypes: float64(2), int64(1), object(5)\n",
      "memory usage: 72.0+ bytes\n"
     ]
    }
   ],
   "source": [
    "filtered_df.info()"
   ]
  },
  {
   "cell_type": "code",
   "execution_count": null,
   "id": "d81626c8-bf6e-4df6-b500-1e5693b7a1ba",
   "metadata": {},
   "outputs": [],
   "source": []
  }
 ],
 "metadata": {
  "kernelspec": {
   "display_name": "Python 3 (ipykernel)",
   "language": "python",
   "name": "python3"
  },
  "language_info": {
   "codemirror_mode": {
    "name": "ipython",
    "version": 3
   },
   "file_extension": ".py",
   "mimetype": "text/x-python",
   "name": "python",
   "nbconvert_exporter": "python",
   "pygments_lexer": "ipython3",
   "version": "3.9.7"
  }
 },
 "nbformat": 4,
 "nbformat_minor": 5
}
